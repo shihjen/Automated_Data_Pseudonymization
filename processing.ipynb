{
 "cells": [
  {
   "cell_type": "code",
   "execution_count": null,
   "id": "b59ef277-42cb-47a5-b27e-e0970d86b3c6",
   "metadata": {},
   "outputs": [],
   "source": [
    "# import essential libraries\n",
    "import pandas as pd\n",
    "import numpy as np\n",
    "import os\n",
    "import random, string\n",
    "from helper import randomword, pseudonymization, update_key_table"
   ]
  },
  {
   "cell_type": "code",
   "execution_count": null,
   "id": "4cb8531f-0f04-4c76-bc5e-64fca5aa4519",
   "metadata": {},
   "outputs": [],
   "source": [
    "# lsiting of data for pseudonymization\n",
    "files = os.listdir(\"data/\")\n",
    "\n",
    "# check number of files in the data folder\n",
    "print(\"Total number of file(s) in the data folder:\", len(files))"
   ]
  },
  {
   "cell_type": "code",
   "execution_count": null,
   "id": "f4307824-af7c-4808-a9dd-a8db82327586",
   "metadata": {},
   "outputs": [],
   "source": [
    "# extract the list of NRIC in the data files\n",
    "data_nric = []\n",
    "for file in files:\n",
    "    name, extension = os.path.splitext(file)\n",
    "    path = \"data/\" + file\n",
    "    if extension == \".xlsx\":\n",
    "        df = pd.read_excel(path, engine=\"openpyxl\")\n",
    "    elif extension == \".csv\":\n",
    "        df = pd.read_csv(path)\n",
    "    else:\n",
    "        pass\n",
    "    for val in df[\"NRIC\"]:\n",
    "        data_nric.append(val)"
   ]
  },
  {
   "cell_type": "code",
   "execution_count": null,
   "id": "e9e9684e-91b1-4d5c-b5c6-f32796594722",
   "metadata": {},
   "outputs": [],
   "source": [
    "# retrieve data in key table\n",
    "path = \"key_table/\" + os.listdir(\"key_table/\")[0]\n",
    "key_table = pd.read_excel(path)"
   ]
  },
  {
   "cell_type": "code",
   "execution_count": null,
   "id": "d3449634-0af3-46fc-a47f-ba292f224899",
   "metadata": {},
   "outputs": [],
   "source": [
    "# check if NRIC exits in the key table\n",
    "existing_nric = set(key_table[\"NRIC\"])\n",
    "new_nric = list(set(data_nric)-existing_nric)\n",
    "\n",
    "print(\"Number of new NRIC which doesn't found inside the key table:\", len(new_nric))"
   ]
  },
  {
   "cell_type": "code",
   "execution_count": null,
   "id": "251ed3c2-18a8-4958-b0fa-0c0fcb291880",
   "metadata": {},
   "outputs": [],
   "source": [
    "# update key table with new NRIC\n",
    "updated_key_table = update_key_table(key_table, new_nric, pseudonymization(new_nric))\n",
    "updated_key_table.to_excel(path, index=False)\n",
    "print(\"Key Table Updated! Retrieve the updated key table in the folder 'key_table'.\")"
   ]
  },
  {
   "cell_type": "code",
   "execution_count": null,
   "id": "59ae491c-279a-48a0-935a-b05a9ecce464",
   "metadata": {},
   "outputs": [],
   "source": [
    "# deidentification\n",
    "for file in files:\n",
    "    name, extension = os.path.splitext(file)\n",
    "    input_path = \"data/\" + file\n",
    "    output_path = \"deidentified_data/deidentified_\" + name + \".xlsx\"\n",
    "    if extension == \".xlsx\":\n",
    "        df = pd.read_excel(input_path, engine=\"openpyxl\")\n",
    "    elif extension == \".csv\":\n",
    "        df = pd,read_csv(input_path)\n",
    "    else:\n",
    "        pass\n",
    "    df[\"NRIC\"] = df[\"NRIC\"].map(dict(zip(updated_key_table[\"NRIC\"], updated_key_table[\"Pseudo_ID\"])))\n",
    "    df.to_excel(output_path, index=False)\n",
    "print(\"Deidentification done!! Retrieve the deidentified data in the folder 'deidentified_data'\")"
   ]
  }
 ],
 "metadata": {
  "kernelspec": {
   "display_name": "Python 3 (ipykernel)",
   "language": "python",
   "name": "python3"
  },
  "language_info": {
   "codemirror_mode": {
    "name": "ipython",
    "version": 3
   },
   "file_extension": ".py",
   "mimetype": "text/x-python",
   "name": "python",
   "nbconvert_exporter": "python",
   "pygments_lexer": "ipython3",
   "version": "3.9.23"
  }
 },
 "nbformat": 4,
 "nbformat_minor": 5
}
